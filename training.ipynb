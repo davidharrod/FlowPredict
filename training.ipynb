{
 "cells": [
  {
   "cell_type": "markdown",
   "metadata": {},
   "source": [
    "## Clone repo and import dependencies"
   ]
  },
  {
   "cell_type": "code",
   "execution_count": null,
   "metadata": {},
   "outputs": [],
   "source": [
    "!pip install pytorch==1.10.1 tensorboard==2.7.0 pandas\n",
    "import os \n",
    "import numpy as np\n",
    "import torch\n",
    "from torch import optim\n",
    "from torch.autograd.grad_mode import F\n",
    "from torch.nn.modules import loss\n",
    "from torch.nn.modules.container import ModuleList\n",
    "from torch.utils.data.dataloader_experimental import DataLoader2\n",
    "from torch import nn\n",
    "from torch.utils.data import DataLoader, dataloader\n",
    "from torch.utils.tensorboard import SummaryWriter\n",
    "\n",
    "%cd /tmp\n",
    "%rm -rf /tmp/FlowPredict\n",
    "!git clone https://github.com/davidharrod/FlowPredict.git\n",
    "%cd /tmp/FlowPredict\n",
    "import modules\n",
    "import data_utils"
   ]
  },
  {
   "cell_type": "markdown",
   "metadata": {},
   "source": [
    "## Prepare dataset"
   ]
  }
 ],
 "metadata": {
  "language_info": {
   "name": "python"
  },
  "orig_nbformat": 4
 },
 "nbformat": 4,
 "nbformat_minor": 2
}
